{
 "cells": [
  {
   "cell_type": "code",
   "execution_count": null,
   "metadata": {},
   "outputs": [],
   "source": [
    "import numpy as np\n",
    "\n",
    "def f(x):\n",
    "    return x**2 + 10*np.sin(x)\n",
    "\n",
    "while True:\n",
    "    a = np.random.random() * 20 - 10\n",
    "    b = np.random.random() * 20 - 10\n",
    "    if a > b:\n",
    "        a0 = a\n",
    "        b0 = b\n",
    "        break                     \n",
    "\n",
    "m = (a0+b0)/2\n",
    "interval = (a0-b0)/2\n",
    "\n",
    "while True:\n",
    "    if f(a0) > f(b0) > f(m):\n",
    "        a0 = m\n",
    "        b0 = b0\n",
    "    elif f(b0) > f(a0) > f(m):\n",
    "        b0 = m\n",
    "        a0 = a0\n",
    "    elif f(a0) > f(m) > f(b0):\n",
    "        a0 = b0 - m\n",
    "        b0 = b0\n",
    "    elif f(b0) > f(m) > f(a):\n",
    "        b0 = a0 + m\n",
    "        a0 = a0\n",
    "    elif interval < 1.e-06:\n",
    "        print(f(m))\n",
    "        break\n",
    "  "
   ]
  }
 ],
 "metadata": {
  "kernelspec": {
   "display_name": "Python 3",
   "language": "python",
   "name": "python3"
  },
  "language_info": {
   "codemirror_mode": {
    "name": "ipython",
    "version": 3
   },
   "file_extension": ".py",
   "mimetype": "text/x-python",
   "name": "python",
   "nbconvert_exporter": "python",
   "pygments_lexer": "ipython3",
   "version": "3.6.5"
  }
 },
 "nbformat": 4,
 "nbformat_minor": 2
}
